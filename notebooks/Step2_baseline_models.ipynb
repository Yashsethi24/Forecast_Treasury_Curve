{
 "cells": [
  {
   "cell_type": "code",
   "execution_count": 1,
   "id": "60d48a82",
   "metadata": {},
   "outputs": [],
   "source": [
    "import pandas as pd"
   ]
  },
  {
   "cell_type": "code",
   "execution_count": 2,
   "id": "c094cd76",
   "metadata": {},
   "outputs": [],
   "source": [
    "from sklearn.metrics import mean_absolute_error\n",
    "\n",
    "def time_series_mae(y_true, y_pred):\n",
    "    \"\"\"\n",
    "    Calculate Mean Absolute Error (MAE) for time series cross validation.\n",
    "\n",
    "    Parameters:\n",
    "    y_true (array-like): Original/actual values.\n",
    "    y_pred (array-like): Model predicted values.\n",
    "\n",
    "    Returns:\n",
    "    float: MAE value.\n",
    "    \"\"\"\n",
    "    return mean_absolute_error(y_true, y_pred)"
   ]
  },
  {
   "cell_type": "code",
   "execution_count": 3,
   "id": "92cb3459",
   "metadata": {},
   "outputs": [],
   "source": [
    "data = pd.read_csv(r'C:\\Users\\hp\\Documents\\GitHub\\Forecast_Treasury_Curve\\Dataset\\final_feature_library_all_features.csv')"
   ]
  },
  {
   "cell_type": "code",
   "execution_count": 4,
   "id": "e31034e4",
   "metadata": {},
   "outputs": [],
   "source": [
    "data['Spread'] = data['USGG10YR_mean'] - data['USGG2YR_mean']"
   ]
  },
  {
   "cell_type": "code",
   "execution_count": 6,
   "id": "671f88c5",
   "metadata": {},
   "outputs": [
    {
     "name": "stdout",
     "output_type": "stream",
     "text": [
      "Training set length: 267\n",
      "Test set length: 36\n"
     ]
    }
   ],
   "source": [
    "# Split the time series into training and test sets (e.g., last 12 months as test)\n",
    "test_size = 36\n",
    "train = data['Spread'][:-test_size]\n",
    "test = data['Spread'][-test_size:]\n",
    "\n",
    "print(f\"Training set length: {len(train)}\")\n",
    "print(f\"Test set length: {len(test)}\")"
   ]
  },
  {
   "cell_type": "code",
   "execution_count": 8,
   "id": "6ada4b2a",
   "metadata": {},
   "outputs": [
    {
     "name": "stdout",
     "output_type": "stream",
     "text": [
      "MAE scores for each fold: [0.30222209846916304, 0.14135950702678968, 0.30990410471171126, 0.17054479358805627, 0.12320418266516049]\n",
      "Average MAE: 0.20944693729217617\n"
     ]
    }
   ],
   "source": [
    "from sklearn.model_selection import TimeSeriesSplit\n",
    "import numpy as np\n",
    "\n",
    "# Naive forecast for time series cross-validation\n",
    "\n",
    "tscv = TimeSeriesSplit(n_splits=5)\n",
    "mae_scores = []\n",
    "\n",
    "spread = test.values\n",
    "\n",
    "for train_index, test_index in tscv.split(spread):\n",
    "    y_train, y_test = spread[train_index], spread[test_index]\n",
    "    # Naive forecast: predict each test value as the last value of the train set\n",
    "    y_pred = np.full_like(y_test, fill_value=y_train[-1], dtype=np.float64)\n",
    "    mae = time_series_mae(y_test, y_pred)\n",
    "    mae_scores.append(mae)\n",
    "\n",
    "print(f\"MAE scores for each fold: {mae_scores}\")\n",
    "print(f\"Average MAE: {np.mean(mae_scores)}\")"
   ]
  },
  {
   "cell_type": "code",
   "execution_count": 11,
   "id": "a9052454",
   "metadata": {},
   "outputs": [
    {
     "name": "stdout",
     "output_type": "stream",
     "text": [
      "Drift method MAE scores for each fold: [0.11370144409937939, 0.1922973073906776, 0.4942070458881815, 0.24855191574126576, 0.14020533209044775]\n",
      "Drift method average MAE: 0.2377926090419904\n"
     ]
    }
   ],
   "source": [
    "# Drift method forecast for time series cross-validation\n",
    "\n",
    "mae_scores_drift = []\n",
    "\n",
    "for train_index, test_index in tscv.split(spread):\n",
    "    y_train, y_test = spread[train_index], spread[test_index]\n",
    "    n_train = len(y_train)\n",
    "    drift = (y_train[-1] - y_train[0]) / (n_train - 1) if n_train > 1 else 0\n",
    "    # Forecast for each test point: y_hat_t = y_train[-1] + drift * (t+1)\n",
    "    y_pred = np.array([y_train[-1] + drift * (i + 1) for i in range(len(y_test))])\n",
    "    mae = time_series_mae(y_test, y_pred)\n",
    "    mae_scores_drift.append(mae)\n",
    "\n",
    "print(f\"Drift method MAE scores for each fold: {mae_scores_drift}\")\n",
    "print(f\"Drift method average MAE: {np.mean(mae_scores_drift)}\")"
   ]
  },
  {
   "cell_type": "code",
   "execution_count": 23,
   "id": "51b9996b",
   "metadata": {},
   "outputs": [
    {
     "name": "stdout",
     "output_type": "stream",
     "text": [
      "Best smoothing_level (alpha): 1.00 (Train MAE=0.1066)\n",
      "Test set MAE using SES: 0.5399\n"
     ]
    }
   ],
   "source": [
    "from statsmodels.tsa.holtwinters import SimpleExpSmoothing\n",
    "\n",
    "# Fit Simple Exponential Smoothing (SES) on training set and select best smoothing_level using MAE\n",
    "best_mae = np.inf\n",
    "best_alpha = None\n",
    "alphas = np.linspace(0.01, 1, 20)\n",
    "for alpha in alphas:\n",
    "    try:\n",
    "        ses_model = SimpleExpSmoothing(train).fit(smoothing_level=alpha, optimized=False)\n",
    "        y_pred_train = ses_model.fittedvalues\n",
    "        mae_train = mean_absolute_error(train, y_pred_train)\n",
    "        if mae_train < best_mae:\n",
    "            best_mae = mae_train\n",
    "            best_alpha = alpha\n",
    "    except Exception:\n",
    "        continue\n",
    "\n",
    "print(f\"Best smoothing_level (alpha): {best_alpha:.2f} (Train MAE={best_mae:.4f})\")\n",
    "\n",
    "# Fit SES with best_alpha on train, forecast test set\n",
    "ses_model = SimpleExpSmoothing(train).fit(smoothing_level=best_alpha, optimized=False)\n",
    "y_forecast = ses_model.forecast(len(test))\n",
    "mae_test = mean_absolute_error(test, y_forecast)\n",
    "\n",
    "print(f\"Test set MAE using SES: {mae_test:.4f}\")"
   ]
  },
  {
   "cell_type": "code",
   "execution_count": 26,
   "id": "36abf5cd",
   "metadata": {},
   "outputs": [
    {
     "name": "stdout",
     "output_type": "stream",
     "text": [
      "Best window size for rolling average: 2 (Test MAE=0.6628)\n"
     ]
    }
   ],
   "source": [
    "# Try different window sizes to find the best rolling average parameter\n",
    "best_mae_rolling = np.inf\n",
    "best_window = None\n",
    "for window in range(2, 21):  # Try window sizes from 2 to 20\n",
    "    rolling_mean = train.rolling(window=window).mean()\n",
    "    if rolling_mean.dropna().empty:\n",
    "        continue\n",
    "    last_rolling_avg = rolling_mean.dropna().iloc[-1]\n",
    "    y_forecast_rolling = np.full(len(test), last_rolling_avg)\n",
    "    mae_test_rolling = mean_absolute_error(test, y_forecast_rolling)\n",
    "    if mae_test_rolling < best_mae_rolling:\n",
    "        best_mae_rolling = mae_test_rolling\n",
    "        best_window = window\n",
    "\n",
    "print(f\"Best window size for rolling average: {best_window} (Test MAE={best_mae_rolling:.4f})\")\n"
   ]
  },
  {
   "cell_type": "code",
   "execution_count": 27,
   "id": "8a06b14b",
   "metadata": {},
   "outputs": [
    {
     "name": "stdout",
     "output_type": "stream",
     "text": [
      "Test MAE using rolling average (window=2): 0.6628\n"
     ]
    }
   ],
   "source": [
    "# Forecast with best window\n",
    "rolling_mean = train.rolling(window=best_window).mean()\n",
    "last_rolling_avg = rolling_mean.dropna().iloc[-1]\n",
    "y_forecast_rolling = np.full(len(test), last_rolling_avg)\n",
    "mae_test_rolling = mean_absolute_error(test, y_forecast_rolling)\n",
    "print(f\"Test MAE using rolling average (window={best_window}): {mae_test_rolling:.4f}\")"
   ]
  },
  {
   "cell_type": "code",
   "execution_count": null,
   "id": "a71e623d",
   "metadata": {
    "vscode": {
     "languageId": "julia"
    }
   },
   "outputs": [],
   "source": []
  }
 ],
 "metadata": {
  "kernelspec": {
   "display_name": "Python 3",
   "language": "python",
   "name": "python3"
  },
  "language_info": {
   "codemirror_mode": {
    "name": "ipython",
    "version": 3
   },
   "file_extension": ".py",
   "mimetype": "text/x-python",
   "name": "python",
   "nbconvert_exporter": "python",
   "pygments_lexer": "ipython3",
   "version": "3.13.1"
  }
 },
 "nbformat": 4,
 "nbformat_minor": 5
}
